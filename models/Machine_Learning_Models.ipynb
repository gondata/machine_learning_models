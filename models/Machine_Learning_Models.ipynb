{
 "cells": [
  {
   "cell_type": "code",
   "execution_count": 20,
   "id": "5f29dda8",
   "metadata": {},
   "outputs": [],
   "source": [
    "# Importamos librerías de manejo numérico y procesamiento de datos.\n",
    "import numpy as np\n",
    "import pandas as pd\n",
    "\n",
    "# Importamos scikit-learn, nuestra librería base para utilizar algoritmos de machine learning.\n",
    "import sklearn\n",
    "\n",
    "# Importamos los datasets de scikit-learn.\n",
    "from sklearn import datasets\n",
    "\n",
    "# Importamos librerías de scikit-learn para manejo de regresión lineal/logística.\n",
    "from sklearn import linear_model\n",
    "\n",
    "# Importamos librerías de scikit-learn para uso de clasificación de bosque aleatorio.\n",
    "from sklearn.ensemble import RandomForestClassifier\n",
    "\n",
    "# Importamos librerías de scikit-learn para clusterización con k-means.\n",
    "from sklearn.cluster import KMeans\n",
    "\n",
    "# Importamos librerías para manejo del rendimiento (performance) de nuestros modelos.\n",
    "from sklearn.metrics import mean_squared_error, r2_score, accuracy_score\n",
    "\n",
    "# Importamos librerías para graficar.\n",
    "import matplotlib.pyplot as plt\n",
    "from mpl_toolkits.mplot3d import Axes3D\n",
    "\n",
    "# Definimos el tamaño del graficado (opcional).\n",
    "plt.rcParams['font.size']=15"
   ]
  },
  {
   "cell_type": "code",
   "execution_count": 21,
   "id": "00cab525",
   "metadata": {},
   "outputs": [
    {
     "name": "stdout",
     "output_type": "stream",
     "text": [
      "{'data': array([[5.1, 3.5, 1.4, 0.2],\n",
      "       [4.9, 3. , 1.4, 0.2],\n",
      "       [4.7, 3.2, 1.3, 0.2],\n",
      "       [4.6, 3.1, 1.5, 0.2],\n",
      "       [5. , 3.6, 1.4, 0.2],\n",
      "       [5.4, 3.9, 1.7, 0.4],\n",
      "       [4.6, 3.4, 1.4, 0.3],\n",
      "       [5. , 3.4, 1.5, 0.2],\n",
      "       [4.4, 2.9, 1.4, 0.2],\n",
      "       [4.9, 3.1, 1.5, 0.1],\n",
      "       [5.4, 3.7, 1.5, 0.2],\n",
      "       [4.8, 3.4, 1.6, 0.2],\n",
      "       [4.8, 3. , 1.4, 0.1],\n",
      "       [4.3, 3. , 1.1, 0.1],\n",
      "       [5.8, 4. , 1.2, 0.2],\n",
      "       [5.7, 4.4, 1.5, 0.4],\n",
      "       [5.4, 3.9, 1.3, 0.4],\n",
      "       [5.1, 3.5, 1.4, 0.3],\n",
      "       [5.7, 3.8, 1.7, 0.3],\n",
      "       [5.1, 3.8, 1.5, 0.3],\n",
      "       [5.4, 3.4, 1.7, 0.2],\n",
      "       [5.1, 3.7, 1.5, 0.4],\n",
      "       [4.6, 3.6, 1. , 0.2],\n",
      "       [5.1, 3.3, 1.7, 0.5],\n",
      "       [4.8, 3.4, 1.9, 0.2],\n",
      "       [5. , 3. , 1.6, 0.2],\n",
      "       [5. , 3.4, 1.6, 0.4],\n",
      "       [5.2, 3.5, 1.5, 0.2],\n",
      "       [5.2, 3.4, 1.4, 0.2],\n",
      "       [4.7, 3.2, 1.6, 0.2],\n",
      "       [4.8, 3.1, 1.6, 0.2],\n",
      "       [5.4, 3.4, 1.5, 0.4],\n",
      "       [5.2, 4.1, 1.5, 0.1],\n",
      "       [5.5, 4.2, 1.4, 0.2],\n",
      "       [4.9, 3.1, 1.5, 0.2],\n",
      "       [5. , 3.2, 1.2, 0.2],\n",
      "       [5.5, 3.5, 1.3, 0.2],\n",
      "       [4.9, 3.6, 1.4, 0.1],\n",
      "       [4.4, 3. , 1.3, 0.2],\n",
      "       [5.1, 3.4, 1.5, 0.2],\n",
      "       [5. , 3.5, 1.3, 0.3],\n",
      "       [4.5, 2.3, 1.3, 0.3],\n",
      "       [4.4, 3.2, 1.3, 0.2],\n",
      "       [5. , 3.5, 1.6, 0.6],\n",
      "       [5.1, 3.8, 1.9, 0.4],\n",
      "       [4.8, 3. , 1.4, 0.3],\n",
      "       [5.1, 3.8, 1.6, 0.2],\n",
      "       [4.6, 3.2, 1.4, 0.2],\n",
      "       [5.3, 3.7, 1.5, 0.2],\n",
      "       [5. , 3.3, 1.4, 0.2],\n",
      "       [7. , 3.2, 4.7, 1.4],\n",
      "       [6.4, 3.2, 4.5, 1.5],\n",
      "       [6.9, 3.1, 4.9, 1.5],\n",
      "       [5.5, 2.3, 4. , 1.3],\n",
      "       [6.5, 2.8, 4.6, 1.5],\n",
      "       [5.7, 2.8, 4.5, 1.3],\n",
      "       [6.3, 3.3, 4.7, 1.6],\n",
      "       [4.9, 2.4, 3.3, 1. ],\n",
      "       [6.6, 2.9, 4.6, 1.3],\n",
      "       [5.2, 2.7, 3.9, 1.4],\n",
      "       [5. , 2. , 3.5, 1. ],\n",
      "       [5.9, 3. , 4.2, 1.5],\n",
      "       [6. , 2.2, 4. , 1. ],\n",
      "       [6.1, 2.9, 4.7, 1.4],\n",
      "       [5.6, 2.9, 3.6, 1.3],\n",
      "       [6.7, 3.1, 4.4, 1.4],\n",
      "       [5.6, 3. , 4.5, 1.5],\n",
      "       [5.8, 2.7, 4.1, 1. ],\n",
      "       [6.2, 2.2, 4.5, 1.5],\n",
      "       [5.6, 2.5, 3.9, 1.1],\n",
      "       [5.9, 3.2, 4.8, 1.8],\n",
      "       [6.1, 2.8, 4. , 1.3],\n",
      "       [6.3, 2.5, 4.9, 1.5],\n",
      "       [6.1, 2.8, 4.7, 1.2],\n",
      "       [6.4, 2.9, 4.3, 1.3],\n",
      "       [6.6, 3. , 4.4, 1.4],\n",
      "       [6.8, 2.8, 4.8, 1.4],\n",
      "       [6.7, 3. , 5. , 1.7],\n",
      "       [6. , 2.9, 4.5, 1.5],\n",
      "       [5.7, 2.6, 3.5, 1. ],\n",
      "       [5.5, 2.4, 3.8, 1.1],\n",
      "       [5.5, 2.4, 3.7, 1. ],\n",
      "       [5.8, 2.7, 3.9, 1.2],\n",
      "       [6. , 2.7, 5.1, 1.6],\n",
      "       [5.4, 3. , 4.5, 1.5],\n",
      "       [6. , 3.4, 4.5, 1.6],\n",
      "       [6.7, 3.1, 4.7, 1.5],\n",
      "       [6.3, 2.3, 4.4, 1.3],\n",
      "       [5.6, 3. , 4.1, 1.3],\n",
      "       [5.5, 2.5, 4. , 1.3],\n",
      "       [5.5, 2.6, 4.4, 1.2],\n",
      "       [6.1, 3. , 4.6, 1.4],\n",
      "       [5.8, 2.6, 4. , 1.2],\n",
      "       [5. , 2.3, 3.3, 1. ],\n",
      "       [5.6, 2.7, 4.2, 1.3],\n",
      "       [5.7, 3. , 4.2, 1.2],\n",
      "       [5.7, 2.9, 4.2, 1.3],\n",
      "       [6.2, 2.9, 4.3, 1.3],\n",
      "       [5.1, 2.5, 3. , 1.1],\n",
      "       [5.7, 2.8, 4.1, 1.3],\n",
      "       [6.3, 3.3, 6. , 2.5],\n",
      "       [5.8, 2.7, 5.1, 1.9],\n",
      "       [7.1, 3. , 5.9, 2.1],\n",
      "       [6.3, 2.9, 5.6, 1.8],\n",
      "       [6.5, 3. , 5.8, 2.2],\n",
      "       [7.6, 3. , 6.6, 2.1],\n",
      "       [4.9, 2.5, 4.5, 1.7],\n",
      "       [7.3, 2.9, 6.3, 1.8],\n",
      "       [6.7, 2.5, 5.8, 1.8],\n",
      "       [7.2, 3.6, 6.1, 2.5],\n",
      "       [6.5, 3.2, 5.1, 2. ],\n",
      "       [6.4, 2.7, 5.3, 1.9],\n",
      "       [6.8, 3. , 5.5, 2.1],\n",
      "       [5.7, 2.5, 5. , 2. ],\n",
      "       [5.8, 2.8, 5.1, 2.4],\n",
      "       [6.4, 3.2, 5.3, 2.3],\n",
      "       [6.5, 3. , 5.5, 1.8],\n",
      "       [7.7, 3.8, 6.7, 2.2],\n",
      "       [7.7, 2.6, 6.9, 2.3],\n",
      "       [6. , 2.2, 5. , 1.5],\n",
      "       [6.9, 3.2, 5.7, 2.3],\n",
      "       [5.6, 2.8, 4.9, 2. ],\n",
      "       [7.7, 2.8, 6.7, 2. ],\n",
      "       [6.3, 2.7, 4.9, 1.8],\n",
      "       [6.7, 3.3, 5.7, 2.1],\n",
      "       [7.2, 3.2, 6. , 1.8],\n",
      "       [6.2, 2.8, 4.8, 1.8],\n",
      "       [6.1, 3. , 4.9, 1.8],\n",
      "       [6.4, 2.8, 5.6, 2.1],\n",
      "       [7.2, 3. , 5.8, 1.6],\n",
      "       [7.4, 2.8, 6.1, 1.9],\n",
      "       [7.9, 3.8, 6.4, 2. ],\n",
      "       [6.4, 2.8, 5.6, 2.2],\n",
      "       [6.3, 2.8, 5.1, 1.5],\n",
      "       [6.1, 2.6, 5.6, 1.4],\n",
      "       [7.7, 3. , 6.1, 2.3],\n",
      "       [6.3, 3.4, 5.6, 2.4],\n",
      "       [6.4, 3.1, 5.5, 1.8],\n",
      "       [6. , 3. , 4.8, 1.8],\n",
      "       [6.9, 3.1, 5.4, 2.1],\n",
      "       [6.7, 3.1, 5.6, 2.4],\n",
      "       [6.9, 3.1, 5.1, 2.3],\n",
      "       [5.8, 2.7, 5.1, 1.9],\n",
      "       [6.8, 3.2, 5.9, 2.3],\n",
      "       [6.7, 3.3, 5.7, 2.5],\n",
      "       [6.7, 3. , 5.2, 2.3],\n",
      "       [6.3, 2.5, 5. , 1.9],\n",
      "       [6.5, 3. , 5.2, 2. ],\n",
      "       [6.2, 3.4, 5.4, 2.3],\n",
      "       [5.9, 3. , 5.1, 1.8]]), 'target': array([0, 0, 0, 0, 0, 0, 0, 0, 0, 0, 0, 0, 0, 0, 0, 0, 0, 0, 0, 0, 0, 0,\n",
      "       0, 0, 0, 0, 0, 0, 0, 0, 0, 0, 0, 0, 0, 0, 0, 0, 0, 0, 0, 0, 0, 0,\n",
      "       0, 0, 0, 0, 0, 0, 1, 1, 1, 1, 1, 1, 1, 1, 1, 1, 1, 1, 1, 1, 1, 1,\n",
      "       1, 1, 1, 1, 1, 1, 1, 1, 1, 1, 1, 1, 1, 1, 1, 1, 1, 1, 1, 1, 1, 1,\n",
      "       1, 1, 1, 1, 1, 1, 1, 1, 1, 1, 1, 1, 2, 2, 2, 2, 2, 2, 2, 2, 2, 2,\n",
      "       2, 2, 2, 2, 2, 2, 2, 2, 2, 2, 2, 2, 2, 2, 2, 2, 2, 2, 2, 2, 2, 2,\n",
      "       2, 2, 2, 2, 2, 2, 2, 2, 2, 2, 2, 2, 2, 2, 2, 2, 2, 2]), 'frame': None, 'target_names': array(['setosa', 'versicolor', 'virginica'], dtype='<U10'), 'DESCR': '.. _iris_dataset:\\n\\nIris plants dataset\\n--------------------\\n\\n**Data Set Characteristics:**\\n\\n    :Number of Instances: 150 (50 in each of three classes)\\n    :Number of Attributes: 4 numeric, predictive attributes and the class\\n    :Attribute Information:\\n        - sepal length in cm\\n        - sepal width in cm\\n        - petal length in cm\\n        - petal width in cm\\n        - class:\\n                - Iris-Setosa\\n                - Iris-Versicolour\\n                - Iris-Virginica\\n                \\n    :Summary Statistics:\\n\\n    ============== ==== ==== ======= ===== ====================\\n                    Min  Max   Mean    SD   Class Correlation\\n    ============== ==== ==== ======= ===== ====================\\n    sepal length:   4.3  7.9   5.84   0.83    0.7826\\n    sepal width:    2.0  4.4   3.05   0.43   -0.4194\\n    petal length:   1.0  6.9   3.76   1.76    0.9490  (high!)\\n    petal width:    0.1  2.5   1.20   0.76    0.9565  (high!)\\n    ============== ==== ==== ======= ===== ====================\\n\\n    :Missing Attribute Values: None\\n    :Class Distribution: 33.3% for each of 3 classes.\\n    :Creator: R.A. Fisher\\n    :Donor: Michael Marshall (MARSHALL%PLU@io.arc.nasa.gov)\\n    :Date: July, 1988\\n\\nThe famous Iris database, first used by Sir R.A. Fisher. The dataset is taken\\nfrom Fisher\\'s paper. Note that it\\'s the same as in R, but not as in the UCI\\nMachine Learning Repository, which has two wrong data points.\\n\\nThis is perhaps the best known database to be found in the\\npattern recognition literature.  Fisher\\'s paper is a classic in the field and\\nis referenced frequently to this day.  (See Duda & Hart, for example.)  The\\ndata set contains 3 classes of 50 instances each, where each class refers to a\\ntype of iris plant.  One class is linearly separable from the other 2; the\\nlatter are NOT linearly separable from each other.\\n\\n.. topic:: References\\n\\n   - Fisher, R.A. \"The use of multiple measurements in taxonomic problems\"\\n     Annual Eugenics, 7, Part II, 179-188 (1936); also in \"Contributions to\\n     Mathematical Statistics\" (John Wiley, NY, 1950).\\n   - Duda, R.O., & Hart, P.E. (1973) Pattern Classification and Scene Analysis.\\n     (Q327.D83) John Wiley & Sons.  ISBN 0-471-22361-1.  See page 218.\\n   - Dasarathy, B.V. (1980) \"Nosing Around the Neighborhood: A New System\\n     Structure and Classification Rule for Recognition in Partially Exposed\\n     Environments\".  IEEE Transactions on Pattern Analysis and Machine\\n     Intelligence, Vol. PAMI-2, No. 1, 67-71.\\n   - Gates, G.W. (1972) \"The Reduced Nearest Neighbor Rule\".  IEEE Transactions\\n     on Information Theory, May 1972, 431-433.\\n   - See also: 1988 MLC Proceedings, 54-64.  Cheeseman et al\"s AUTOCLASS II\\n     conceptual clustering system finds 3 classes in the data.\\n   - Many, many more ...', 'feature_names': ['sepal length (cm)', 'sepal width (cm)', 'petal length (cm)', 'petal width (cm)'], 'filename': 'iris.csv', 'data_module': 'sklearn.datasets.data'}\n"
     ]
    }
   ],
   "source": [
    "# Carga del Iris dataset.\n",
    "iris = datasets.load_iris()\n",
    "\n",
    "# Imprimimos los datos.\n",
    "print(iris)"
   ]
  },
  {
   "cell_type": "code",
   "execution_count": 22,
   "id": "361a1b4b",
   "metadata": {},
   "outputs": [
    {
     "data": {
      "text/html": [
       "<div>\n",
       "<style scoped>\n",
       "    .dataframe tbody tr th:only-of-type {\n",
       "        vertical-align: middle;\n",
       "    }\n",
       "\n",
       "    .dataframe tbody tr th {\n",
       "        vertical-align: top;\n",
       "    }\n",
       "\n",
       "    .dataframe thead th {\n",
       "        text-align: right;\n",
       "    }\n",
       "</style>\n",
       "<table border=\"1\" class=\"dataframe\">\n",
       "  <thead>\n",
       "    <tr style=\"text-align: right;\">\n",
       "      <th></th>\n",
       "      <th>sepal length (cm)</th>\n",
       "      <th>sepal width (cm)</th>\n",
       "      <th>petal length (cm)</th>\n",
       "      <th>petal width (cm)</th>\n",
       "      <th>species</th>\n",
       "    </tr>\n",
       "  </thead>\n",
       "  <tbody>\n",
       "    <tr>\n",
       "      <th>91</th>\n",
       "      <td>6.1</td>\n",
       "      <td>3.0</td>\n",
       "      <td>4.6</td>\n",
       "      <td>1.4</td>\n",
       "      <td>1</td>\n",
       "    </tr>\n",
       "    <tr>\n",
       "      <th>63</th>\n",
       "      <td>6.1</td>\n",
       "      <td>2.9</td>\n",
       "      <td>4.7</td>\n",
       "      <td>1.4</td>\n",
       "      <td>1</td>\n",
       "    </tr>\n",
       "    <tr>\n",
       "      <th>103</th>\n",
       "      <td>6.3</td>\n",
       "      <td>2.9</td>\n",
       "      <td>5.6</td>\n",
       "      <td>1.8</td>\n",
       "      <td>2</td>\n",
       "    </tr>\n",
       "    <tr>\n",
       "      <th>6</th>\n",
       "      <td>4.6</td>\n",
       "      <td>3.4</td>\n",
       "      <td>1.4</td>\n",
       "      <td>0.3</td>\n",
       "      <td>0</td>\n",
       "    </tr>\n",
       "    <tr>\n",
       "      <th>59</th>\n",
       "      <td>5.2</td>\n",
       "      <td>2.7</td>\n",
       "      <td>3.9</td>\n",
       "      <td>1.4</td>\n",
       "      <td>1</td>\n",
       "    </tr>\n",
       "  </tbody>\n",
       "</table>\n",
       "</div>"
      ],
      "text/plain": [
       "     sepal length (cm)  sepal width (cm)  petal length (cm)  petal width (cm)  \\\n",
       "91                 6.1               3.0                4.6               1.4   \n",
       "63                 6.1               2.9                4.7               1.4   \n",
       "103                6.3               2.9                5.6               1.8   \n",
       "6                  4.6               3.4                1.4               0.3   \n",
       "59                 5.2               2.7                3.9               1.4   \n",
       "\n",
       "     species  \n",
       "91         1  \n",
       "63         1  \n",
       "103        2  \n",
       "6          0  \n",
       "59         1  "
      ]
     },
     "execution_count": 22,
     "metadata": {},
     "output_type": "execute_result"
    }
   ],
   "source": [
    "# Creamos el DataFrame con los feature names.\n",
    "data = pd.DataFrame(data=iris.data, columns=iris.feature_names)\n",
    "\n",
    "# Creamos el DataFrame con los targets (las especies de la flor).\n",
    "target = pd.DataFrame(data=iris.target, columns=['species'])\n",
    "\n",
    "# Unimos ambos DF con concat; agregamos una nueva columna.\n",
    "data = pd.concat([data, target], axis=1)\n",
    "\n",
    "# Mezclar en orden aleatorio.\n",
    "data = data.sample(frac=1, random_state=1234)\n",
    "\n",
    "# Imprimimos los primeros registros del nuevo DataFrame.\n",
    "data.head()"
   ]
  },
  {
   "cell_type": "code",
   "execution_count": 23,
   "id": "03ab7865",
   "metadata": {},
   "outputs": [],
   "source": [
    "# Fracción de entrenamiento 0.8.\n",
    "Ntrain = int(data.shape[0] * 0.8)\n",
    "\n",
    "# Datos de entrenamiento.\n",
    "train = data.iloc[:Ntrain, :]\n",
    "\n",
    "# Datos de prueba.\n",
    "test = data.iloc[Ntrain:, :]"
   ]
  },
  {
   "cell_type": "markdown",
   "id": "c5234fa9",
   "metadata": {},
   "source": [
    "# Regresión Lineal"
   ]
  },
  {
   "cell_type": "code",
   "execution_count": 24,
   "id": "ea2d9551",
   "metadata": {},
   "outputs": [
    {
     "data": {
      "image/png": "[encoded data removed]",
      "text/plain": [
       "<Figure size 360x360 with 1 Axes>"
      ]
     },
     "metadata": {
      "needs_background": "light"
     },
     "output_type": "display_data"
    }
   ],
   "source": [
    "# Definimos variables para acceder de forma más simple a las columnas de nuestros features.\n",
    "plength = data[\"petal length (cm)\"]\n",
    "pwidth = data[\"petal width (cm)\"]\n",
    "\n",
    "# Creamos la gráfica comparando Petal length(eje x) contral Petal width (eje y)\n",
    "f = plt.figure(figsize=(5,5))\n",
    "ax = f.add_subplot(1,1,1)\n",
    "ax.scatter(plength, pwidth)\n",
    "ax.set_xlabel(\"Petal Length\")\n",
    "ax.set_ylabel(\"Petal Width\")\n",
    "ax.set_title(\"Petal Width v. Length\")\n",
    "f.tight_layout()"
   ]
  },
  {
   "cell_type": "code",
   "execution_count": 25,
   "id": "dbca8ec0",
   "metadata": {},
   "outputs": [
    {
     "name": "stdout",
     "output_type": "stream",
     "text": [
      "Coef\n",
      " [0.41490802]\n",
      "\n",
      "\n",
      "Bias\n",
      " -0.357589314248546\n"
     ]
    }
   ],
   "source": [
    "# Importar un objeto de regresión lineal de sklearn.\n",
    "model_1 = linear_model.LinearRegression()\n",
    "\n",
    "# Ajustar el modelo a tus datos.\n",
    "model_1.fit(pd.DataFrame(train.iloc[:, 2]), train.iloc[:, 3])\n",
    "\n",
    "# Imprimir los coeficientes.\n",
    "print(\"Coef\\n\", model_1.coef_)\n",
    "\n",
    "#Imprimir el sesgo o bias.\n",
    "print(\"\\n\\nBias\\n\", model_1.intercept_)"
   ]
  },
  {
   "cell_type": "markdown",
   "id": "561b8a98",
   "metadata": {},
   "source": [
    "### θ1∗x+θ0=0.41∗x−0.36=y"
   ]
  },
  {
   "cell_type": "code",
   "execution_count": 26,
   "id": "a198e741",
   "metadata": {},
   "outputs": [
    {
     "data": {
      "image/png": "[encoded data removed]",
      "text/plain": [
       "<Figure size 360x360 with 1 Axes>"
      ]
     },
     "metadata": {
      "needs_background": "light"
     },
     "output_type": "display_data"
    }
   ],
   "source": [
    "# Definimos variables para acceder de forma más simple a las columnas de nuestros features.\n",
    "plength = data[\"petal length (cm)\"]\n",
    "pwidth = data[\"petal width (cm)\"]\n",
    "\n",
    "# Definimos un arreglo desde el valor mínimo del petal length hasta el máximo del petal lenght + 1, en pasos de 0.5.\n",
    "xvals = np.arange(plength.min(), plength.max()+1, 0.5)\n",
    "\n",
    "# Ecuacion de nuestra regresión lineal.\n",
    "yvals = 0.41*xvals - 0.36\n",
    "\n",
    "# Graficamos nuestra recta con los datos y nuestra ecuación.\n",
    "f = plt.figure(figsize=(5,5))\n",
    "ax = f.add_subplot(1,1,1)\n",
    "ax.scatter(plength, pwidth)\n",
    "ax.plot(xvals, yvals, 'k', linewidth=3)\n",
    "ax.set_xlabel(\"Petal Length\")\n",
    "ax.set_ylabel(\"Petal Width\")\n",
    "ax.set_title(\"Petal Length v. Width\")\n",
    "f.tight_layout()"
   ]
  },
  {
   "cell_type": "code",
   "execution_count": 37,
   "id": "a0e77fec",
   "metadata": {},
   "outputs": [
    {
     "name": "stdout",
     "output_type": "stream",
     "text": [
      "MSE: 0.04\n",
      "R2: 0.94\n"
     ]
    }
   ],
   "source": [
    "# Predicción con model_1 = linear_model.LinearRegression() utilizando los datos de prueba.\n",
    "ypredict = model_1.predict(pd.DataFrame(test.iloc[:, 2]))\n",
    "\n",
    "# Calculamos el MSE con los valores predichos en y.\n",
    "print('MSE: %.2f'\n",
    "      % mean_squared_error(pd.DataFrame(test.iloc[:, 3]), ypredict))\n",
    "    \n",
    "# Calculamos R^2 con los valores predichos en y.\n",
    "print('R2: %.2f'\n",
    "      % r2_score(pd.DataFrame(test.iloc[:, 3]), ypredict))"
   ]
  },
  {
   "cell_type": "markdown",
   "id": "fe5ffa0a",
   "metadata": {},
   "source": [
    "# Regresión Logística"
   ]
  },
  {
   "cell_type": "code",
   "execution_count": 42,
   "id": "0d957d3c",
   "metadata": {},
   "outputs": [
    {
     "data": {
      "text/plain": [
       "LogisticRegression(max_iter=110)"
      ]
     },
     "execution_count": 42,
     "metadata": {},
     "output_type": "execute_result"
    }
   ],
   "source": [
    "# Preparamos los datos de entrenamiento y prueba en x y y.\n",
    "# La última columna es la etiqueta de la especie..\n",
    "xtrain = train.iloc[:, :-1] # input, training\n",
    "ytrain = train.iloc[:, -1] # output, training\n",
    "xtest = test.iloc[:, :-1] # input, test\n",
    "ytest = test.iloc[:, -1] # output, test\n",
    "\n",
    "# Configuramos la regresión logística con el método de regresión logística de linear_model.\n",
    "model_2 = linear_model.LogisticRegression(max_iter=110) #max_iter=110 lo agregue para que no tire error\n",
    "\n",
    "# Ajustamos el modelo con los datos de entrenamiento.\n",
    "model_2.fit(xtrain, ytrain)"
   ]
  },
  {
   "cell_type": "code",
   "execution_count": 43,
   "id": "f426ba36",
   "metadata": {},
   "outputs": [
    {
     "name": "stdout",
     "output_type": "stream",
     "text": [
      "Testing accuracy = 1.0\n"
     ]
    }
   ],
   "source": [
    "# Hacer predicciones con el conjunto de prueba.\n",
    "ypred = model_2.predict(xtest)\n",
    "\n",
    "# Probamos el accuracy del modelo generado\n",
    "print(\"Testing accuracy =\", accuracy_score(ytest, ypred))"
   ]
  },
  {
   "cell_type": "code",
   "execution_count": 44,
   "id": "96ed2b3a",
   "metadata": {},
   "outputs": [
    {
     "data": {
      "text/plain": [
       "array([[11,  0,  0],\n",
       "       [ 0,  7,  0],\n",
       "       [ 0,  0, 12]], dtype=int64)"
      ]
     },
     "execution_count": 44,
     "metadata": {},
     "output_type": "execute_result"
    }
   ],
   "source": [
    "# Un ejemplo de la matriz de confusión con sklearn\n",
    "#Importamos el método de matriz de confusión desde sklearn\n",
    "from sklearn.metrics import confusion_matrix\n",
    "\n",
    "#Aplicamos la matriz a nuestros valores de testing y los valores de predicción generados.\n",
    "confusion_matrix(ytest, ypred)"
   ]
  },
  {
   "cell_type": "markdown",
   "id": "199d830b",
   "metadata": {},
   "source": [
    "# Bosque Aleatorio (árboles de decisión)"
   ]
  },
  {
   "cell_type": "code",
   "execution_count": 45,
   "id": "ae9df0e7",
   "metadata": {},
   "outputs": [
    {
     "name": "stdout",
     "output_type": "stream",
     "text": [
      "Testing accuracy = 1.0\n"
     ]
    }
   ],
   "source": [
    "# Creamos el clasificador\n",
    "clf = RandomForestClassifier(n_estimators=3)\n",
    "\n",
    "# Entrenamos el modelo\n",
    "clf.fit(xtrain, ytrain)\n",
    "\n",
    "# Generamos predicción \n",
    "y_pred=clf.predict(xtest)\n",
    "\n",
    "# Probamos el modelo con accuracy\n",
    "print(\"Testing accuracy =\", accuracy_score(ytest, ypred))"
   ]
  },
  {
   "cell_type": "markdown",
   "id": "a627a49f",
   "metadata": {},
   "source": [
    "# K-Means Clustering"
   ]
  },
  {
   "cell_type": "code",
   "execution_count": 49,
   "id": "8e0b034f",
   "metadata": {},
   "outputs": [
    {
     "name": "stdout",
     "output_type": "stream",
     "text": [
      "Inertia = 31.371358974358976\n",
      "Centroids (x, y) =\n",
      " [[4.26923077 1.34230769]\n",
      " [1.462      0.246     ]\n",
      " [5.59583333 2.0375    ]]\n"
     ]
    }
   ],
   "source": [
    "# Inicializamos el modelo KMeans.\n",
    "k2model = KMeans(n_clusters=3, random_state=42)\n",
    "\n",
    "# Ajustar todos los puntos de datos EXCEPTO para la especie.\n",
    "k2model.fit(data[[\"petal length (cm)\", \"petal width (cm)\"]])\n",
    "\n",
    "# Calculamos e imprimimos la inercia desde el modelo de Kmeans.\n",
    "print(\"Inertia =\", k2model.inertia_)\n",
    "\n",
    "# Calculamos e imprimimos la posición de los clusters.\n",
    "print(\"Centroids (x, y) =\\n\", k2model.cluster_centers_)"
   ]
  },
  {
   "cell_type": "code",
   "execution_count": 50,
   "id": "8ce46ef0",
   "metadata": {},
   "outputs": [
    {
     "data": {
      "image/png": "[encoded data removed]",
      "text/plain": [
       "<Figure size 360x360 with 1 Axes>"
      ]
     },
     "metadata": {
      "needs_background": "light"
     },
     "output_type": "display_data"
    }
   ],
   "source": [
    "# Graficamos los datos con la línea para setosa.\n",
    "f = plt.figure(figsize=(5,5))\n",
    "ax = f.add_subplot(1,1,1)\n",
    "\n",
    "# Setosa\n",
    "ax.scatter(data[data.iloc[:, -1]==0][\"petal length (cm)\"],\n",
    "           data[data.iloc[:, -1]==0][\"petal width (cm)\"],\n",
    "           c='k')\n",
    "\n",
    "# Versicolor\n",
    "ax.scatter(data[data.iloc[:, -1]==1][\"petal length (cm)\"],\n",
    "           data[data.iloc[:, -1]==1][\"petal width (cm)\"],\n",
    "           c='r')\n",
    "\n",
    "# Virginica\n",
    "ax.scatter(data[data.iloc[:, -1]==2][\"petal length (cm)\"],\n",
    "           data[data.iloc[:, -1]==2][\"petal width (cm)\"],\n",
    "           c='b')\n",
    "\n",
    "ax.legend([\"Setosa\", \"Versicolor\", \"Virginica\"])\n",
    "\n",
    "# Graficamos los centroides de los clústers (output en Petal Length x Petal Width)\n",
    "ax.plot(k2model.cluster_centers_[:,0],\n",
    "        k2model.cluster_centers_[:,1],\n",
    "        \"g*\", markersize=30)\n",
    "\n",
    "ax.set_xlabel(\"Petal Length\")\n",
    "ax.set_ylabel(\"Petal Width\")\n",
    "ax.set_title(\"Petal Length v. Width\")\n",
    "f.tight_layout()"
   ]
  },
  {
   "cell_type": "code",
   "execution_count": 48,
   "id": "42164259",
   "metadata": {},
   "outputs": [
    {
     "data": {
      "image/png": "[encoded data removed]",
      "text/plain": [
       "<Figure size 504x360 with 1 Axes>"
      ]
     },
     "metadata": {
      "needs_background": "light"
     },
     "output_type": "display_data"
    }
   ],
   "source": [
    "I = []\n",
    "centroids = []\n",
    "for c in range(2,11):\n",
    "  k2model = KMeans(n_clusters=c, random_state=42)\n",
    "  k2model.fit(data[[\"petal length (cm)\", \"petal width (cm)\"]])\n",
    "  I.append(k2model.inertia_)\n",
    "  centroids.append(k2model.cluster_centers_)\n",
    "\n",
    "f = plt.figure(figsize=(7,5))\n",
    "ax = f.add_subplot(1,1,1)\n",
    "\n",
    "ax.scatter(x=np.arange(2,11), y=I)\n",
    "ax.plot(np.arange(2,11),I)\n",
    "\n",
    "ax.set_xlabel('Clusters')\n",
    "ax.set_ylabel('Inertia')\n",
    "ax.set_title('Elbow method for optimal k value')\n",
    "\n",
    "f.tight_layout()"
   ]
  },
  {
   "cell_type": "code",
   "execution_count": null,
   "id": "5387b4bd",
   "metadata": {},
   "outputs": [],
   "source": []
  }
 ],
 "metadata": {
  "kernelspec": {
   "display_name": "Python 3 (ipykernel)",
   "language": "python",
   "name": "python3"
  },
  "language_info": {
   "codemirror_mode": {
    "name": "ipython",
    "version": 3
   },
   "file_extension": ".py",
   "mimetype": "text/x-python",
   "name": "python",
   "nbconvert_exporter": "python",
   "pygments_lexer": "ipython3",
   "version": "3.9.12"
  }
 },
 "nbformat": 4,
 "nbformat_minor": 5
}
